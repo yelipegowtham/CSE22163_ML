{
 "cells": [
  {
   "cell_type": "markdown",
   "id": "a47fe1c7-3e0a-4d7c-a515-9307234d239e",
   "metadata": {},
   "source": [
    "# Q1)"
   ]
  },
  {
   "cell_type": "code",
   "execution_count": 2,
   "id": "0b156b5f-113a-4e82-9b7a-624c29a9f4b0",
   "metadata": {},
   "outputs": [
    {
     "name": "stdout",
     "output_type": "stream",
     "text": [
      "Number of pairs in the given arr list is : 2\n"
     ]
    }
   ],
   "source": [
    "#machine learning lab 1 (set A)\n",
    "#CSE22163_CSE_B\n",
    "def count_pair(arr, k):\n",
    "    cont = 0\n",
    "    n = len(arr)\n",
    "    pairs = set()\n",
    "    #nested for loop \n",
    "    for i in range(n):\n",
    "        for j in range(i + 1, n):#loop to iterate the list to remove duplicate set of pairs  \n",
    "            if arr[i] + arr[j] == k:\n",
    "                pairs.add((arr[i], arr[j]))\n",
    "    cont = len(pairs)#we are counting the total no of pairs\n",
    "    return cont\n",
    " \n",
    "arr = [2, 7, 4, 1, 3, 6]\n",
    "k = 10\n",
    "pair_count = count_pair(arr, k)\n",
    "print(\"Number of pairs in the given arr list is :\", pair_count)"
   ]
  },
  {
   "cell_type": "markdown",
   "id": "4c1af2bf-d3b9-49e0-9998-b50f562c7089",
   "metadata": {},
   "source": [
    "# Q2)function with paramaeter as list named arr"
   ]
  },
  {
   "cell_type": "code",
   "execution_count": 13,
   "id": "09c99439-3352-4fe5-a61f-76c8ae0d2858",
   "metadata": {},
   "outputs": [
    {
     "name": "stdout",
     "output_type": "stream",
     "text": [
      "47\n"
     ]
    }
   ],
   "source": [
    "def ran(arr):\n",
    " x = arr[0]\n",
    " y = arr[0]\n",
    " for i in arr:\n",
    "    if i > x:\n",
    "      x = i  # x is for largest number \n",
    "    if i < y:\n",
    "      y = i # y is least number or value in my array whatsapp\n",
    " z = x - y\n",
    " return z # hereb z is the range bw max nd min\n",
    "\n",
    "arr=[2,8,4,1,3,6,48]\n",
    "result = ran(arr)\n",
    "print(result)"
   ]
  },
  {
   "cell_type": "markdown",
   "id": "0f730c11-3019-4e7b-8bf0-376857bff8c3",
   "metadata": {},
   "source": [
    "# Q3"
   ]
  },
  {
   "cell_type": "code",
   "execution_count": 17,
   "id": "145788d6-767e-4830-badc-f79291dd5d82",
   "metadata": {},
   "outputs": [
    {
     "name": "stdin",
     "output_type": "stream",
     "text": [
      "Enter the dimensions of the square matrix:  3\n"
     ]
    },
    {
     "name": "stdout",
     "output_type": "stream",
     "text": [
      "Enter the elements of the matrix row by row:\n"
     ]
    },
    {
     "name": "stdin",
     "output_type": "stream",
     "text": [
      "Element [1][1]:  1\n",
      "Element [1][2]:  2\n",
      "Element [1][3]:  3\n",
      "Element [2][1]:  4\n",
      "Element [2][2]:  5\n",
      "Element [2][3]:  6\n",
      "Element [3][1]:  7\n",
      "Element [3][2]:  8\n",
      "Element [3][3]:  9\n",
      "Enter the argument:  3\n"
     ]
    },
    {
     "name": "stdout",
     "output_type": "stream",
     "text": [
      "[468, 576, 684]\n",
      "[1062, 1305, 1548]\n",
      "[1656, 2034, 2412]\n"
     ]
    }
   ],
   "source": [
    "def matrix_multiplication(matrix, rows, m):\n",
    "    # Initialize result as an identity matrix for proper matrix multiplication\n",
    "    result = [[1 if i == j else 0 for j in range(rows)] for i in range(rows)]\n",
    "    \n",
    "    # Perform matrix multiplication m times\n",
    "    for _ in range(m):\n",
    "        mul = [[0 for _ in range(rows)] for _ in range(rows)]\n",
    "        for i in range(rows):\n",
    "            for j in range(rows):\n",
    "                for k in range(rows):\n",
    "                    mul[i][j] += result[i][k] * matrix[k][j]\n",
    "        result = mul\n",
    "    return result\n",
    "\n",
    "\n",
    "# main\n",
    "# dimensions of the square matrix\n",
    "rows = int(input(\"Enter the dimensions of the square matrix: \"))\n",
    "matrix = []\n",
    "matrix1 = []\n",
    "# matrix elements\n",
    "print(\"Enter the elements of the matrix row by row:\")\n",
    "for i in range(rows):\n",
    "    a = []\n",
    "    for j in range(rows):\n",
    "        a.append(int(input(f\"Element [{i+1}][{j+1}]: \")))\n",
    "    matrix.append(a)\n",
    "m = int(input(\"Enter the argument: \")) #no. of times to be multiplied\n",
    "matrix1 = matrix_multiplication(matrix, rows, m)\n",
    "for ro in matrix1:\n",
    "    print(row)"
   ]
  },
  {
   "cell_type": "markdown",
   "id": "fe2206af-4072-459b-ad7f-ca8266ef9714",
   "metadata": {},
   "source": [
    "# Q4)\n"
   ]
  },
  {
   "cell_type": "code",
   "execution_count": 29,
   "id": "f2ea292d-7d6c-4a3f-872c-c101ef6c431a",
   "metadata": {},
   "outputs": [
    {
     "name": "stdin",
     "output_type": "stream",
     "text": [
      "Enter a string:  YELIPE \n"
     ]
    },
    {
     "name": "stdout",
     "output_type": "stream",
     "text": [
      "The maximally occuring character is 'E' with a count of 2.\n"
     ]
    }
   ],
   "source": [
    "def highest_occurrence_character(s):\n",
    "    # holds character counts\n",
    "    char_count = {}\n",
    "    \n",
    "    # Iterate of each character in given string\n",
    "    for char in s:\n",
    "        # If the character is not in the dictionary, initialize it\n",
    "        if char not in char_count:\n",
    "            char_count[char] = 0\n",
    "        # Increment the count for the character\n",
    "        char_count[char] += 1\n",
    "    \n",
    "    # Variables for highest occurrence character and its count\n",
    "    high_char = None\n",
    "    high_count = 0\n",
    "    \n",
    "    # to find the character with the highest count\n",
    "    for char in char_count:\n",
    "        if char_count[char] > high_count:\n",
    "            high_count = char_count[char]\n",
    "            high_char = char\n",
    "    \n",
    "    return high_char, high_count\n",
    "\n",
    "# main\n",
    "input_string = input(\"Enter a string: \")\n",
    "character, count = highest_occurrence_character(input_string)\n",
    "print(f\"The maximally occuring character is '{character}' with a count of {count}.\")"
   ]
  }
 ],
 "metadata": {
  "kernelspec": {
   "display_name": "Python 3 (ipykernel)",
   "language": "python",
   "name": "python3"
  },
  "language_info": {
   "codemirror_mode": {
    "name": "ipython",
    "version": 3
   },
   "file_extension": ".py",
   "mimetype": "text/x-python",
   "name": "python",
   "nbconvert_exporter": "python",
   "pygments_lexer": "ipython3",
   "version": "3.12.4"
  }
 },
 "nbformat": 4,
 "nbformat_minor": 5
}
