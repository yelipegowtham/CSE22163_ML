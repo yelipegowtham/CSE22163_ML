{
 "cells": [
  {
   "cell_type": "code",
   "execution_count": 2,
   "id": "0b156b5f-113a-4e82-9b7a-624c29a9f4b0",
   "metadata": {},
   "outputs": [
    {
     "name": "stdout",
     "output_type": "stream",
     "text": [
      "Number of pairs in the given arr list is : 2\n"
     ]
    }
   ],
   "source": [
    "#machine learning lab 1 (set A)\n",
    "#CSE22163_CSE_B\n",
    "def count_pair(arr, k):\n",
    "    cont = 0\n",
    "    n = len(arr)\n",
    "    pairs = set()\n",
    "    #nested for loop \n",
    "    for i in range(n):\n",
    "        for j in range(i + 1, n):#loop to iterate the list to remove duplicate set of pairs  \n",
    "            if arr[i] + arr[j] == k:\n",
    "                pairs.add((arr[i], arr[j]))\n",
    "    cont = len(pairs)#we are counting the total no of pairs\n",
    "    return cont\n",
    " \n",
    "arr = [2, 7, 4, 1, 3, 6]\n",
    "k = 10\n",
    "pair_count = count_pair(arr, k)\n",
    "print(\"Number of pairs in the given arr list is :\", pair_count)"
   ]
  },
  {
   "cell_type": "code",
   "execution_count": null,
   "id": "09c99439-3352-4fe5-a61f-76c8ae0d2858",
   "metadata": {},
   "outputs": [],
   "source": []
  }
 ],
 "metadata": {
  "kernelspec": {
   "display_name": "Python 3 (ipykernel)",
   "language": "python",
   "name": "python3"
  },
  "language_info": {
   "codemirror_mode": {
    "name": "ipython",
    "version": 3
   },
   "file_extension": ".py",
   "mimetype": "text/x-python",
   "name": "python",
   "nbconvert_exporter": "python",
   "pygments_lexer": "ipython3",
   "version": "3.12.4"
  }
 },
 "nbformat": 4,
 "nbformat_minor": 5
}
